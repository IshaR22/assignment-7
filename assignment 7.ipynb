{
 "cells": [
  {
   "cell_type": "code",
   "execution_count": null,
   "id": "f3b7e4f2-99b1-4f10-ab52-65f35ef0c5dd",
   "metadata": {},
   "outputs": [],
   "source": [
    "Q1. Explain the assumptions required to use ANOVA and provide examples of violations that could impact\n",
    "the validity of the results."
   ]
  },
  {
   "cell_type": "code",
   "execution_count": null,
   "id": "fb1fe95e-6bdb-4923-9376-3450a526d433",
   "metadata": {},
   "outputs": [],
   "source": [
    "To use ANOVA, the assumptions include:\n",
    "1. The data is normally distributed within each group.\n",
    "2. The variances of the groups are equal.\n",
    "3. The observations are independent and random.\n",
    "4. absence of outliers.\n",
    "\n",
    "If these assumptions are violated, it can impact the validity of the results. For example, violations could include:\n",
    "1. Non-normality of data within groups.\n",
    "2. Unequal variances between groups.\n",
    "3. Observations not being independent, such as in a repeated measures design.\n"
   ]
  },
  {
   "cell_type": "code",
   "execution_count": null,
   "id": "0787fe88-b6da-4fbb-9f54-346d1a1c7a97",
   "metadata": {},
   "outputs": [],
   "source": [
    "Q2. What are the three types of ANOVA, and in what situations would each be used?"
   ]
  },
  {
   "cell_type": "code",
   "execution_count": null,
   "id": "23c4fef2-4585-4323-8829-c16856fb4658",
   "metadata": {},
   "outputs": [],
   "source": [
    "The three types of ANOVA are:\n",
    "\n",
    "One-way ANOVA - used when comparing the means of three or more independent groups.\n",
    "one factor with atleast 2 levels which are independent of one another\n",
    "Two-way ANOVA or factorial anova - used to analyze the effect of two categorical independent variables on a continuous\n",
    "dependent variable.\n",
    "one or more factor with atleast 2 levels which can be dependent and independent of one another.\n",
    "Repeated measures ANOVA - used when the same subjects are measured at multiple time points or under different\n",
    "conditions.\n",
    "one factor with atleast 2 levels which are dependent on one another"
   ]
  },
  {
   "cell_type": "code",
   "execution_count": null,
   "id": "aa9948da-ba24-4817-8e1c-932a8e7e5902",
   "metadata": {},
   "outputs": [],
   "source": [
    "Q3. What is the partitioning of variance in ANOVA, and why is it important to understand this concept?"
   ]
  },
  {
   "cell_type": "code",
   "execution_count": null,
   "id": "e99ae6fb-3019-41a1-8a8c-bdefece28125",
   "metadata": {},
   "outputs": [],
   "source": [
    "The partitioning of variance in ANOVA involves breaking down the total variance in the data into different components \n",
    "that reflect the variability due to different factors or sources in the study, such as group differences or error.\n",
    "\n",
    "It is important to understand this concept because it helps researchers determine the proportion of variance in \n",
    "the data that can be attributed to the factors being studied, allowing them to assess the significance of these \n",
    "factors in influencing the outcome. This understanding also helps in interpreting the results of ANOVA and drawing\n",
    "meaningful conclusions based on the partitioned variance components."
   ]
  },
  {
   "cell_type": "code",
   "execution_count": null,
   "id": "9fe93064-6b20-4208-a9f7-b255541eaeb9",
   "metadata": {},
   "outputs": [],
   "source": [
    "Q4. How would you calculate the total sum of squares (SST), explained sum of squares (SSE), and residual\n",
    "sum of squares (SSR) in a one-way ANOVA using Python?"
   ]
  },
  {
   "cell_type": "code",
   "execution_count": null,
   "id": "1cc4bd6c-d133-4567-b2d8-d886d0f760ea",
   "metadata": {},
   "outputs": [],
   "source": [
    "import numpy as np\n",
    "mean = np.mean(data)  \n",
    "SST = np.sum((data - mean) ** 2)\n",
    "group_means = [np.mean(group) for group in groups]  \n",
    "SSE = sum(np.sum((group - group_mean) ** 2) for group, group_mean in zip(groups, group_means))  \n",
    "SSR = SST - SSE"
   ]
  },
  {
   "cell_type": "code",
   "execution_count": null,
   "id": "cdbd0285-7ab4-49cc-8730-d1039f36a852",
   "metadata": {},
   "outputs": [],
   "source": [
    "Q5. In a two-way ANOVA, how would you calculate the main effects and interaction effects using Python?"
   ]
  },
  {
   "cell_type": "code",
   "execution_count": null,
   "id": "c7cb8430-23f1-46a4-a5a0-9b950d6df322",
   "metadata": {},
   "outputs": [],
   "source": [
    "The main effects represent the individual impact of each independent variable on the dependent variable, \n",
    "while the interaction effect shows how the two independent variables together influence the dependent variable beyond \n",
    "their individual effects.\n",
    "\n",
    "By examining the coefficients or parameters related to each factor in the model, you can determine the main effects,\n",
    "and by analyzing the interaction term, you can identify the interaction effect in a two-way ANOVA analysis using \n",
    "Python."
   ]
  },
  {
   "cell_type": "code",
   "execution_count": null,
   "id": "c81a239f-20fa-49b9-b6a2-b98936002621",
   "metadata": {},
   "outputs": [],
   "source": [
    "Q6. Suppose you conducted a one-way ANOVA and obtained an F-statistic of 5.23 and a p-value of 0.02.\n",
    "What can you conclude about the differences between the groups, and how would you interpret these\n",
    "results?"
   ]
  },
  {
   "cell_type": "code",
   "execution_count": null,
   "id": "ae630054-84d6-4317-8a8a-e6c478002f3c",
   "metadata": {},
   "outputs": [],
   "source": [
    "F-statistic of 5.23 suggests that there is a statistically significant difference between groups\n",
    "p-value of 0.02.\n",
    "alpha =0.05\n",
    "since p value is less than alpha therefore we reject the null hypothesis"
   ]
  },
  {
   "cell_type": "code",
   "execution_count": null,
   "id": "6bf1a16a-0091-4dae-940b-58c87a4fe571",
   "metadata": {},
   "outputs": [],
   "source": [
    "Q7. In a repeated measures ANOVA, how would you handle missing data, and what are the potential\n",
    "consequences of using different methods to handle missing data?"
   ]
  },
  {
   "cell_type": "code",
   "execution_count": null,
   "id": "70076f28-8295-4163-b1a8-9cbf55d38fca",
   "metadata": {},
   "outputs": [],
   "source": [
    "Q8. What are some common post-hoc tests used after ANOVA, and when would you use each one? Provide\n",
    "an example of a situation where a post-hoc test might be necessary."
   ]
  },
  {
   "cell_type": "code",
   "execution_count": null,
   "id": "7e7df1cb-eaa3-44f9-be27-bf39c1a8465c",
   "metadata": {},
   "outputs": [],
   "source": [
    "Q9. A researcher wants to compare the mean weight loss of three diets: A, B, and C. They collect data from\n",
    "50 participants who were randomly assigned to one of the diets. Conduct a one-way ANOVA using Python\n",
    "to determine if there are any significant differences between the mean weight loss of the three diets.\n",
    "Report the F-statistic and p-value, and interpret the results."
   ]
  },
  {
   "cell_type": "code",
   "execution_count": null,
   "id": "b4102944-eca8-413c-9f92-99ed4a4d0598",
   "metadata": {},
   "outputs": [],
   "source": [
    "\n",
    "import numpy as np\n",
    "import scipy.stats as stats\n",
    "\n",
    "np.random.seed(0)   \n"
   ]
  },
  {
   "cell_type": "code",
   "execution_count": null,
   "id": "07625436-9a0b-403a-ae99-a7d0642e7383",
   "metadata": {},
   "outputs": [],
   "source": [
    "Q10. A company wants to know if there are any significant differences in the average time it takes to\n",
    "complete a task using three different software programs: Program A, Program B, and Program C. They\n",
    "randomly assign 30 employees to one of the programs and record the time it takes each employee to\n",
    "complete the task. Conduct a two-way ANOVA using Python to determine if there are any main effects or\n",
    "interaction effects between the software programs and employee experience level (novice vs.\n",
    "experienced). Report the F-statistics and p-values, and interpret the results."
   ]
  },
  {
   "cell_type": "code",
   "execution_count": null,
   "id": "cece472d-54a8-48bf-b512-ae7515724514",
   "metadata": {},
   "outputs": [],
   "source": [
    "Q11. An educational researcher is interested in whether a new teaching method improves student test\n",
    "scores. They randomly assign 100 students to either the control group (traditional teaching method) or the\n",
    "experimental group (new teaching method) and administer a test at the end of the semester. Conduct a\n",
    "two-sample t-test using Python to determine if there are any significant differences in test scores\n",
    "between the two groups. If the results are significant, follow up with a post-hoc test to determine which\n",
    "group(s) differ significantly from each other."
   ]
  },
  {
   "cell_type": "code",
   "execution_count": null,
   "id": "97c92366-5f69-4c78-8a69-023212223c1b",
   "metadata": {},
   "outputs": [],
   "source": [
    "n=100"
   ]
  },
  {
   "cell_type": "code",
   "execution_count": null,
   "id": "e06efe58-ecdd-4b53-aecd-71f3bb47b5b3",
   "metadata": {},
   "outputs": [],
   "source": [
    "Q12. A researcher wants to know if there are any significant differences in the average daily sales of three\n",
    "retail stores: Store A, Store B, and Store C. They randomly select 30 days and record the sales for each store\n",
    "on those days. Conduct a repeated measures ANOVA using Python to determine if there are any\n",
    "\n",
    "significant differences in sales between the three stores. If the results are significant, follow up with a post-\n",
    "hoc test to determine which store(s) differ significantly from each other."
   ]
  }
 ],
 "metadata": {
  "kernelspec": {
   "display_name": "Python 3 (ipykernel)",
   "language": "python",
   "name": "python3"
  },
  "language_info": {
   "codemirror_mode": {
    "name": "ipython",
    "version": 3
   },
   "file_extension": ".py",
   "mimetype": "text/x-python",
   "name": "python",
   "nbconvert_exporter": "python",
   "pygments_lexer": "ipython3",
   "version": "3.10.8"
  }
 },
 "nbformat": 4,
 "nbformat_minor": 5
}
